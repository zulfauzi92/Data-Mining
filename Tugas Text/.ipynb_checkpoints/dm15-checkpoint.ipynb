{
 "cells": [
  {
   "cell_type": "code",
   "execution_count": null,
   "metadata": {},
   "outputs": [],
   "source": [
    "import re\n",
    "import numpy as np\n",
    "import pandas as pd\n",
    "import string"
   ]
  },
  {
   "cell_type": "code",
   "execution_count": null,
   "metadata": {},
   "outputs": [],
   "source": [
    "data = []\n",
    "\n",
    "for i in range(50):\n",
    "    temp = i + 1\n",
    "    try:\n",
    "        f = open(\"textmining/news_dataset/data\" +str(temp) + \".txt\", \"r\", encoding=\"utf8\")\n",
    "        text=f.read()\n",
    "        f.close()\n",
    "    except:\n",
    "        f = open(\"textmining/news_dataset/data\" +str(temp) + \".txt\", \"r\")\n",
    "        text=f.read()\n",
    "        f.close()\n",
    "    text = text.lower()\n",
    "    text = re.sub(r\"\\d+\", \"\", text)\n",
    "    text = text.translate(str.maketrans(\"\",\"\",string.punctuation))\n",
    "    text = text.strip()\n",
    "    data.append(text)\n",
    "    print(\"\\nText:\\n----------------\\n\", text)"
   ]
  },
  {
   "cell_type": "code",
   "execution_count": null,
   "metadata": {},
   "outputs": [],
   "source": [
    "len(data)"
   ]
  },
  {
   "cell_type": "code",
   "execution_count": null,
   "metadata": {},
   "outputs": [],
   "source": [
    "from nltk.tokenize import word_tokenize"
   ]
  },
  {
   "cell_type": "code",
   "execution_count": null,
   "metadata": {},
   "outputs": [],
   "source": [
    "tokenData = []\n",
    "\n",
    "for item in data:\n",
    "    tokens = word_tokenize(item)\n",
    "    tokenData.append(tokens)\n",
    "    print(\"\\nTokenizing:\\n----------------\\n\", tokens)"
   ]
  },
  {
   "cell_type": "code",
   "execution_count": null,
   "metadata": {},
   "outputs": [],
   "source": [
    "from nltk.corpus import stopwords"
   ]
  },
  {
   "cell_type": "code",
   "execution_count": null,
   "metadata": {},
   "outputs": [],
   "source": [
    "# Filtering dengan Porter -------------------\n",
    "listStopword = set(stopwords.words('indonesian'))\n",
    "\n",
    "filteringResult = []\n",
    "\n",
    "for tokens1 in tokenData:\n",
    "    tmpstr = []\n",
    "    for t in tokens1:\n",
    "        if t not in listStopword:\n",
    "            tmpstr.append(t)\n",
    "    tokens1=tmpstr\n",
    "    filteringResult.append(tokens1)\n",
    "    print(\"\\nSetelah filtering --> \", tokens1)"
   ]
  },
  {
   "cell_type": "code",
   "execution_count": null,
   "metadata": {},
   "outputs": [],
   "source": [
    "from nltk.stem import PorterStemmer"
   ]
  },
  {
   "cell_type": "code",
   "execution_count": null,
   "metadata": {},
   "outputs": [],
   "source": [
    "# Stemming dengan Porter ---------------\n",
    "\n",
    "stemmingResult = []\n",
    "\n",
    "for tokens2 in filteringResult:\n",
    "    tmpstr = []\n",
    "    ps = PorterStemmer()\n",
    "    for k in tokens2:\n",
    "        tmpstr.append(ps.stem(k))\n",
    "    tokens2=tmpstr\n",
    "    stemmingResult.append(tokens2)\n",
    "    print(\"\\nOutput stemming:\\n\", tokens2)"
   ]
  },
  {
   "cell_type": "code",
   "execution_count": null,
   "metadata": {},
   "outputs": [],
   "source": [
    "from nltk.probability import FreqDist"
   ]
  },
  {
   "cell_type": "code",
   "execution_count": null,
   "metadata": {},
   "outputs": [],
   "source": [
    "frequencies = []\n",
    "\n",
    "for tokens3 in stemmingResult:\n",
    "    tf = FreqDist(tokens3)\n",
    "    frequencies.append(tf.most_common())\n",
    "    print(\"\\nTerm Frequency:\\n----------------\\n\", tf.most_common())"
   ]
  },
  {
   "cell_type": "code",
   "execution_count": null,
   "metadata": {},
   "outputs": [],
   "source": [
    "score = []\n",
    "\n",
    "for common in frequencies:\n",
    "    temp = []\n",
    "    print(\"\\nKeseluruhan keywords:\\n----------------\\n\")\n",
    "    for word, frequency in common:\n",
    "        check = common[0][1] /2\n",
    "        if frequency >= check:\n",
    "            temp.append((word, frequency))\n",
    "            print(word, \":\", frequency)\n",
    "    \n",
    "    score.append(temp)"
   ]
  },
  {
   "cell_type": "code",
   "execution_count": null,
   "metadata": {},
   "outputs": [],
   "source": [
    "query = \"pertumbuhan ekonomi, perkembangan pasar dan pergerakan harga saham\"\n",
    "query = query.lower()\n",
    "query = re.sub(r\"\\d+\", \"\", query)\n",
    "query = query.translate(str.maketrans(\"\",\"\",string.punctuation))\n",
    "query = query.strip()\n",
    "query"
   ]
  },
  {
   "cell_type": "code",
   "execution_count": null,
   "metadata": {},
   "outputs": [],
   "source": [
    "queryList = word_tokenize(query)\n",
    "queryList"
   ]
  },
  {
   "cell_type": "code",
   "execution_count": null,
   "metadata": {},
   "outputs": [],
   "source": [
    "listStopword = set(stopwords.words('indonesian'))\n",
    "tmpstr = []\n",
    "for t in queryList:\n",
    "    if t not in listStopword:\n",
    "        tmpstr.append(t)\n",
    "queryList=tmpstr\n",
    "print(\"\\nSetelah filtering --> \", queryList)"
   ]
  },
  {
   "cell_type": "code",
   "execution_count": null,
   "metadata": {},
   "outputs": [],
   "source": [
    "tmpstr = []\n",
    "ps = PorterStemmer()\n",
    "for k in queryList:\n",
    "    tmpstr.append(ps.stem(k))\n",
    "queryList=tmpstr\n",
    "print(\"\\nOutput stemming:\\n\", queryList)"
   ]
  },
  {
   "cell_type": "code",
   "execution_count": null,
   "metadata": {},
   "outputs": [],
   "source": [
    "def checkQuery(index, data):\n",
    "    temp = 0\n",
    "    result = {}\n",
    "    \n",
    "    for item in queryList:\n",
    "        for word, freq in data:\n",
    "            if item == word:\n",
    "                temp+=freq\n",
    "    \n",
    "    name = 'data' + str(index+1)\n",
    "    result[name] = temp\n",
    "    return name,temp"
   ]
  },
  {
   "cell_type": "code",
   "execution_count": null,
   "metadata": {},
   "outputs": [],
   "source": [
    "total = []\n",
    "nameData = []\n",
    "\n",
    "for i in range(50):\n",
    "    temp = checkQuery(i, score[i])\n",
    "    name, freq = checkQuery(i, score[i])\n",
    "    nameData.append(name)\n",
    "    total.append(freq)\n",
    "        "
   ]
  },
  {
   "cell_type": "code",
   "execution_count": null,
   "metadata": {},
   "outputs": [],
   "source": [
    "dataRank = {}\n",
    "dataRank['name'] = nameData\n",
    "dataRank['score'] = total"
   ]
  },
  {
   "cell_type": "code",
   "execution_count": null,
   "metadata": {},
   "outputs": [],
   "source": [
    "rankdocs = pd.DataFrame(dataRank)\n",
    "rankdocs"
   ]
  },
  {
   "cell_type": "code",
   "execution_count": null,
   "metadata": {},
   "outputs": [],
   "source": [
    "zeroPos = rankdocs[rankdocs['score'] == 0].index\n",
    "zeroPos"
   ]
  },
  {
   "cell_type": "code",
   "execution_count": null,
   "metadata": {},
   "outputs": [],
   "source": [
    "rankdocs = rankdocs.drop(zeroPos)\n",
    "rankdocs"
   ]
  },
  {
   "cell_type": "code",
   "execution_count": null,
   "metadata": {},
   "outputs": [],
   "source": [
    "label = pd.read_csv('label.csv')\n",
    "label"
   ]
  },
  {
   "cell_type": "code",
   "execution_count": null,
   "metadata": {},
   "outputs": [],
   "source": [
    "temp = label\n",
    "temp = temp.drop(rankdocs.index)\n",
    "temp"
   ]
  },
  {
   "cell_type": "code",
   "execution_count": null,
   "metadata": {},
   "outputs": [],
   "source": [
    "label = label.drop(temp.index)\n",
    "label"
   ]
  },
  {
   "cell_type": "code",
   "execution_count": null,
   "metadata": {},
   "outputs": [],
   "source": [
    "rankdocs['category'] = label['category']\n",
    "rankdocs = rankdocs.sort_values(by=['score'], ascending=False)\n",
    "rankdocs"
   ]
  },
  {
   "cell_type": "code",
   "execution_count": null,
   "metadata": {},
   "outputs": [],
   "source": []
  }
 ],
 "metadata": {
  "kernelspec": {
   "display_name": "Python 3",
   "language": "python",
   "name": "python3"
  },
  "language_info": {
   "codemirror_mode": {
    "name": "ipython",
    "version": 3
   },
   "file_extension": ".py",
   "mimetype": "text/x-python",
   "name": "python",
   "nbconvert_exporter": "python",
   "pygments_lexer": "ipython3",
   "version": "3.8.3"
  }
 },
 "nbformat": 4,
 "nbformat_minor": 4
}
