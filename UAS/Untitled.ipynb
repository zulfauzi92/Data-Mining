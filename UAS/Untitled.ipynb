{
 "cells": [
  {
   "cell_type": "code",
   "execution_count": 1,
   "metadata": {},
   "outputs": [],
   "source": [
    "import pandas as pd\n",
    "import numpy as np"
   ]
  },
  {
   "cell_type": "code",
   "execution_count": 2,
   "metadata": {},
   "outputs": [
    {
     "data": {
      "text/html": [
       "<div>\n",
       "<style scoped>\n",
       "    .dataframe tbody tr th:only-of-type {\n",
       "        vertical-align: middle;\n",
       "    }\n",
       "\n",
       "    .dataframe tbody tr th {\n",
       "        vertical-align: top;\n",
       "    }\n",
       "\n",
       "    .dataframe thead th {\n",
       "        text-align: right;\n",
       "    }\n",
       "</style>\n",
       "<table border=\"1\" class=\"dataframe\">\n",
       "  <thead>\n",
       "    <tr style=\"text-align: right;\">\n",
       "      <th></th>\n",
       "      <th>InvoiceNo</th>\n",
       "      <th>StockCode</th>\n",
       "      <th>Qty</th>\n",
       "      <th>InvoiceDate</th>\n",
       "      <th>CustomerID</th>\n",
       "      <th>Country</th>\n",
       "    </tr>\n",
       "  </thead>\n",
       "  <tbody>\n",
       "    <tr>\n",
       "      <th>0</th>\n",
       "      <td>537626</td>\n",
       "      <td>22725</td>\n",
       "      <td>830</td>\n",
       "      <td>12/7/2010 14:57</td>\n",
       "      <td>12347</td>\n",
       "      <td>Iceland</td>\n",
       "    </tr>\n",
       "    <tr>\n",
       "      <th>1</th>\n",
       "      <td>537626</td>\n",
       "      <td>22729</td>\n",
       "      <td>948</td>\n",
       "      <td>12/7/2010 14:57</td>\n",
       "      <td>12347</td>\n",
       "      <td>Iceland</td>\n",
       "    </tr>\n",
       "    <tr>\n",
       "      <th>2</th>\n",
       "      <td>537626</td>\n",
       "      <td>22195</td>\n",
       "      <td>695</td>\n",
       "      <td>12/7/2010 14:57</td>\n",
       "      <td>12347</td>\n",
       "      <td>Iceland</td>\n",
       "    </tr>\n",
       "    <tr>\n",
       "      <th>3</th>\n",
       "      <td>542237</td>\n",
       "      <td>22725</td>\n",
       "      <td>636</td>\n",
       "      <td>1/26/2011 14:30</td>\n",
       "      <td>12347</td>\n",
       "      <td>Iceland</td>\n",
       "    </tr>\n",
       "    <tr>\n",
       "      <th>4</th>\n",
       "      <td>542237</td>\n",
       "      <td>22729</td>\n",
       "      <td>536</td>\n",
       "      <td>1/26/2011 14:30</td>\n",
       "      <td>12347</td>\n",
       "      <td>Iceland</td>\n",
       "    </tr>\n",
       "    <tr>\n",
       "      <th>...</th>\n",
       "      <td>...</td>\n",
       "      <td>...</td>\n",
       "      <td>...</td>\n",
       "      <td>...</td>\n",
       "      <td>...</td>\n",
       "      <td>...</td>\n",
       "    </tr>\n",
       "    <tr>\n",
       "      <th>10541</th>\n",
       "      <td>543911</td>\n",
       "      <td>21700</td>\n",
       "      <td>455</td>\n",
       "      <td>2/14/2011 12:46</td>\n",
       "      <td>17829</td>\n",
       "      <td>United Arab Emirates</td>\n",
       "    </tr>\n",
       "    <tr>\n",
       "      <th>10542</th>\n",
       "      <td>543911</td>\n",
       "      <td>22111</td>\n",
       "      <td>578</td>\n",
       "      <td>2/14/2011 12:46</td>\n",
       "      <td>17829</td>\n",
       "      <td>United Arab Emirates</td>\n",
       "    </tr>\n",
       "    <tr>\n",
       "      <th>10543</th>\n",
       "      <td>543911</td>\n",
       "      <td>22112</td>\n",
       "      <td>163</td>\n",
       "      <td>2/14/2011 12:46</td>\n",
       "      <td>17829</td>\n",
       "      <td>United Arab Emirates</td>\n",
       "    </tr>\n",
       "    <tr>\n",
       "      <th>10544</th>\n",
       "      <td>564428</td>\n",
       "      <td>23296</td>\n",
       "      <td>545</td>\n",
       "      <td>8/25/2011 11:27</td>\n",
       "      <td>17844</td>\n",
       "      <td>Canada</td>\n",
       "    </tr>\n",
       "    <tr>\n",
       "      <th>10545</th>\n",
       "      <td>564428</td>\n",
       "      <td>23294</td>\n",
       "      <td>643</td>\n",
       "      <td>8/25/2011 11:27</td>\n",
       "      <td>17844</td>\n",
       "      <td>Canada</td>\n",
       "    </tr>\n",
       "  </tbody>\n",
       "</table>\n",
       "<p>10546 rows × 6 columns</p>\n",
       "</div>"
      ],
      "text/plain": [
       "       InvoiceNo  StockCode  Qty      InvoiceDate  CustomerID  \\\n",
       "0         537626      22725  830  12/7/2010 14:57       12347   \n",
       "1         537626      22729  948  12/7/2010 14:57       12347   \n",
       "2         537626      22195  695  12/7/2010 14:57       12347   \n",
       "3         542237      22725  636  1/26/2011 14:30       12347   \n",
       "4         542237      22729  536  1/26/2011 14:30       12347   \n",
       "...          ...        ...  ...              ...         ...   \n",
       "10541     543911      21700  455  2/14/2011 12:46       17829   \n",
       "10542     543911      22111  578  2/14/2011 12:46       17829   \n",
       "10543     543911      22112  163  2/14/2011 12:46       17829   \n",
       "10544     564428      23296  545  8/25/2011 11:27       17844   \n",
       "10545     564428      23294  643  8/25/2011 11:27       17844   \n",
       "\n",
       "                    Country  \n",
       "0                   Iceland  \n",
       "1                   Iceland  \n",
       "2                   Iceland  \n",
       "3                   Iceland  \n",
       "4                   Iceland  \n",
       "...                     ...  \n",
       "10541  United Arab Emirates  \n",
       "10542  United Arab Emirates  \n",
       "10543  United Arab Emirates  \n",
       "10544                Canada  \n",
       "10545                Canada  \n",
       "\n",
       "[10546 rows x 6 columns]"
      ]
     },
     "execution_count": 2,
     "metadata": {},
     "output_type": "execute_result"
    }
   ],
   "source": [
    "dataset = pd.read_csv('transaction.csv')\n",
    "dataset"
   ]
  },
  {
   "cell_type": "code",
   "execution_count": 3,
   "metadata": {},
   "outputs": [
    {
     "data": {
      "text/html": [
       "<div>\n",
       "<style scoped>\n",
       "    .dataframe tbody tr th:only-of-type {\n",
       "        vertical-align: middle;\n",
       "    }\n",
       "\n",
       "    .dataframe tbody tr th {\n",
       "        vertical-align: top;\n",
       "    }\n",
       "\n",
       "    .dataframe thead th {\n",
       "        text-align: right;\n",
       "    }\n",
       "</style>\n",
       "<table border=\"1\" class=\"dataframe\">\n",
       "  <thead>\n",
       "    <tr style=\"text-align: right;\">\n",
       "      <th></th>\n",
       "      <th>InvoiceNo</th>\n",
       "      <th>StockCode</th>\n",
       "      <th>Qty</th>\n",
       "      <th>InvoiceDate</th>\n",
       "      <th>CustomerID</th>\n",
       "      <th>Country</th>\n",
       "      <th>Year</th>\n",
       "      <th>Month</th>\n",
       "    </tr>\n",
       "  </thead>\n",
       "  <tbody>\n",
       "    <tr>\n",
       "      <th>3</th>\n",
       "      <td>542237</td>\n",
       "      <td>22725</td>\n",
       "      <td>636</td>\n",
       "      <td>1/26/2011 14:30</td>\n",
       "      <td>12347</td>\n",
       "      <td>Iceland</td>\n",
       "      <td>2011</td>\n",
       "      <td>1</td>\n",
       "    </tr>\n",
       "    <tr>\n",
       "      <th>8</th>\n",
       "      <td>549222</td>\n",
       "      <td>23076</td>\n",
       "      <td>383</td>\n",
       "      <td>4/7/2011 10:43</td>\n",
       "      <td>12347</td>\n",
       "      <td>Iceland</td>\n",
       "      <td>2011</td>\n",
       "      <td>4</td>\n",
       "    </tr>\n",
       "    <tr>\n",
       "      <th>14</th>\n",
       "      <td>556201</td>\n",
       "      <td>23171</td>\n",
       "      <td>135</td>\n",
       "      <td>6/9/2011 13:01</td>\n",
       "      <td>12347</td>\n",
       "      <td>Iceland</td>\n",
       "      <td>2011</td>\n",
       "      <td>6</td>\n",
       "    </tr>\n",
       "    <tr>\n",
       "      <th>19</th>\n",
       "      <td>562032</td>\n",
       "      <td>23308</td>\n",
       "      <td>490</td>\n",
       "      <td>8/2/2011 8:48</td>\n",
       "      <td>12347</td>\n",
       "      <td>Iceland</td>\n",
       "      <td>2011</td>\n",
       "      <td>8</td>\n",
       "    </tr>\n",
       "    <tr>\n",
       "      <th>27</th>\n",
       "      <td>573511</td>\n",
       "      <td>47559</td>\n",
       "      <td>922</td>\n",
       "      <td>10/31/2011 12:25</td>\n",
       "      <td>12347</td>\n",
       "      <td>Iceland</td>\n",
       "      <td>2011</td>\n",
       "      <td>10</td>\n",
       "    </tr>\n",
       "    <tr>\n",
       "      <th>...</th>\n",
       "      <td>...</td>\n",
       "      <td>...</td>\n",
       "      <td>...</td>\n",
       "      <td>...</td>\n",
       "      <td>...</td>\n",
       "      <td>...</td>\n",
       "      <td>...</td>\n",
       "      <td>...</td>\n",
       "    </tr>\n",
       "    <tr>\n",
       "      <th>10515</th>\n",
       "      <td>559557</td>\n",
       "      <td>22398</td>\n",
       "      <td>948</td>\n",
       "      <td>7/11/2011 10:33</td>\n",
       "      <td>17444</td>\n",
       "      <td>Canada</td>\n",
       "      <td>2011</td>\n",
       "      <td>7</td>\n",
       "    </tr>\n",
       "    <tr>\n",
       "      <th>10529</th>\n",
       "      <td>545579</td>\n",
       "      <td>20723</td>\n",
       "      <td>822</td>\n",
       "      <td>3/4/2011 8:10</td>\n",
       "      <td>17508</td>\n",
       "      <td>Greece</td>\n",
       "      <td>2011</td>\n",
       "      <td>3</td>\n",
       "    </tr>\n",
       "    <tr>\n",
       "      <th>10531</th>\n",
       "      <td>555931</td>\n",
       "      <td>21733</td>\n",
       "      <td>580</td>\n",
       "      <td>6/8/2011 8:31</td>\n",
       "      <td>17828</td>\n",
       "      <td>Malta</td>\n",
       "      <td>2011</td>\n",
       "      <td>6</td>\n",
       "    </tr>\n",
       "    <tr>\n",
       "      <th>10535</th>\n",
       "      <td>543911</td>\n",
       "      <td>21485</td>\n",
       "      <td>469</td>\n",
       "      <td>2/14/2011 12:46</td>\n",
       "      <td>17829</td>\n",
       "      <td>United Arab Emirates</td>\n",
       "      <td>2011</td>\n",
       "      <td>2</td>\n",
       "    </tr>\n",
       "    <tr>\n",
       "      <th>10544</th>\n",
       "      <td>564428</td>\n",
       "      <td>23296</td>\n",
       "      <td>545</td>\n",
       "      <td>8/25/2011 11:27</td>\n",
       "      <td>17844</td>\n",
       "      <td>Canada</td>\n",
       "      <td>2011</td>\n",
       "      <td>8</td>\n",
       "    </tr>\n",
       "  </tbody>\n",
       "</table>\n",
       "<p>1478 rows × 8 columns</p>\n",
       "</div>"
      ],
      "text/plain": [
       "       InvoiceNo  StockCode  Qty       InvoiceDate  CustomerID  \\\n",
       "3         542237      22725  636   1/26/2011 14:30       12347   \n",
       "8         549222      23076  383    4/7/2011 10:43       12347   \n",
       "14        556201      23171  135    6/9/2011 13:01       12347   \n",
       "19        562032      23308  490     8/2/2011 8:48       12347   \n",
       "27        573511      47559  922  10/31/2011 12:25       12347   \n",
       "...          ...        ...  ...               ...         ...   \n",
       "10515     559557      22398  948   7/11/2011 10:33       17444   \n",
       "10529     545579      20723  822     3/4/2011 8:10       17508   \n",
       "10531     555931      21733  580     6/8/2011 8:31       17828   \n",
       "10535     543911      21485  469   2/14/2011 12:46       17829   \n",
       "10544     564428      23296  545   8/25/2011 11:27       17844   \n",
       "\n",
       "                    Country  Year  Month  \n",
       "3                   Iceland  2011      1  \n",
       "8                   Iceland  2011      4  \n",
       "14                  Iceland  2011      6  \n",
       "19                  Iceland  2011      8  \n",
       "27                  Iceland  2011     10  \n",
       "...                     ...   ...    ...  \n",
       "10515                Canada  2011      7  \n",
       "10529                Greece  2011      3  \n",
       "10531                 Malta  2011      6  \n",
       "10535  United Arab Emirates  2011      2  \n",
       "10544                Canada  2011      8  \n",
       "\n",
       "[1478 rows x 8 columns]"
      ]
     },
     "execution_count": 3,
     "metadata": {},
     "output_type": "execute_result"
    }
   ],
   "source": [
    "dataset['Year'] = pd.DatetimeIndex(dataset['InvoiceDate']).year\n",
    "dataset['Month'] = pd.DatetimeIndex(dataset['InvoiceDate']).month\n",
    "dataset = dataset[dataset['Year'] == 2011]\n",
    "dataset = dataset.drop_duplicates(subset='InvoiceNo', keep='first')\n",
    "dataset"
   ]
  },
  {
   "cell_type": "code",
   "execution_count": null,
   "metadata": {},
   "outputs": [],
   "source": []
  },
  {
   "cell_type": "code",
   "execution_count": null,
   "metadata": {},
   "outputs": [],
   "source": []
  },
  {
   "cell_type": "code",
   "execution_count": 4,
   "metadata": {},
   "outputs": [],
   "source": [
    "from sklearn.cluster import KMeans"
   ]
  },
  {
   "cell_type": "code",
   "execution_count": 5,
   "metadata": {},
   "outputs": [],
   "source": [
    "transaksi_tinggi = []"
   ]
  },
  {
   "cell_type": "code",
   "execution_count": 6,
   "metadata": {},
   "outputs": [],
   "source": [
    "for i in range(1,13):\n",
    "    data_bulan = dataset[dataset['Month'] == i]\n",
    "    transaction = pd.DataFrame(data_bulan['Country'].value_counts())\n",
    "    clustering = KMeans(n_clusters=3).fit(transaction)\n",
    "    clusters=clustering.labels_\n",
    "    centroid = clustering.cluster_centers_\n",
    "    \n",
    "    sortedIndex = np.argsort(centroid.sum(axis=1))\n",
    "    zeroArray = np.zeros_like(sortedIndex)\n",
    "    zeroArray[sortedIndex] = np.arange(3)\n",
    "    sortedCentroid =centroid[zeroArray]\n",
    "    sortedLabel = zeroArray[clusters]\n",
    "    \n",
    "    label_2 = (sortedLabel == 2).nonzero()\n",
    "    countryHigh = transaction.index[label_2]\n",
    "    \n",
    "    temp = []\n",
    "    for item in countryHigh:\n",
    "        temp.append(transaction['Country'][item])\n",
    "        \n",
    "    transaksi_tinggi.append(temp)\n",
    "        "
   ]
  },
  {
   "cell_type": "code",
   "execution_count": 7,
   "metadata": {},
   "outputs": [
    {
     "data": {
      "text/plain": [
       "[[28, 26],\n",
       " [20, 18],\n",
       " [26, 23, 17],\n",
       " [21],\n",
       " [34, 33],\n",
       " [28, 20, 20],\n",
       " [29],\n",
       " [29, 24],\n",
       " [43],\n",
       " [47],\n",
       " [58, 52],\n",
       " [16, 15]]"
      ]
     },
     "execution_count": 7,
     "metadata": {},
     "output_type": "execute_result"
    }
   ],
   "source": [
    "transaksi_tinggi"
   ]
  },
  {
   "cell_type": "code",
   "execution_count": 8,
   "metadata": {},
   "outputs": [],
   "source": [
    "from matplotlib import pyplot as plt\n",
    "from sklearn.linear_model import LinearRegression\n",
    "from sklearn.metrics import mean_squared_error"
   ]
  },
  {
   "cell_type": "code",
   "execution_count": 9,
   "metadata": {},
   "outputs": [
    {
     "data": {
      "text/plain": [
       "[27.0,\n",
       " 19.0,\n",
       " 22.0,\n",
       " 21.0,\n",
       " 33.5,\n",
       " 22.666666666666668,\n",
       " 29.0,\n",
       " 26.5,\n",
       " 43.0,\n",
       " 47.0,\n",
       " 55.0,\n",
       " 15.5]"
      ]
     },
     "execution_count": 9,
     "metadata": {},
     "output_type": "execute_result"
    }
   ],
   "source": [
    "averageTransaction = []\n",
    "\n",
    "for item in transaksi_tinggi:\n",
    "    average = sum(item) / len(item)\n",
    "    averageTransaction.append(average)\n",
    "\n",
    "averageTransaction"
   ]
  },
  {
   "cell_type": "code",
   "execution_count": 10,
   "metadata": {},
   "outputs": [
    {
     "data": {
      "text/plain": [
       "[1, 2, 3, 4, 5, 6, 7, 8, 9, 10, 11, 12]"
      ]
     },
     "execution_count": 10,
     "metadata": {},
     "output_type": "execute_result"
    }
   ],
   "source": [
    "month = []\n",
    "for i in range(1,13):\n",
    "    month.append(i)\n",
    "\n",
    "month"
   ]
  },
  {
   "cell_type": "code",
   "execution_count": 11,
   "metadata": {},
   "outputs": [
    {
     "data": {
      "text/plain": [
       "Text(0, 0.5, 'y')"
      ]
     },
     "execution_count": 11,
     "metadata": {},
     "output_type": "execute_result"
    },
    {
     "data": {
      "image/png": "[encoded data removed]",
      "text/plain": [
       "<Figure size 432x288 with 1 Axes>"
      ]
     },
     "metadata": {
      "needs_background": "light"
     },
     "output_type": "display_data"
    }
   ],
   "source": [
    "x=month\n",
    "y=averageTransaction\n",
    "plt.scatter(x, y)\n",
    "plt.plot(x, y)\n",
    "plt.xlabel('x')\n",
    "plt.ylabel('y')"
   ]
  },
  {
   "cell_type": "code",
   "execution_count": 12,
   "metadata": {},
   "outputs": [
    {
     "data": {
      "text/plain": [
       "LinearRegression()"
      ]
     },
     "execution_count": 12,
     "metadata": {},
     "output_type": "execute_result"
    }
   ],
   "source": [
    "linreg=LinearRegression()\n",
    "x=np.array(x).reshape(-1,1)\n",
    "linreg.fit(x, y)"
   ]
  },
  {
   "cell_type": "code",
   "execution_count": 13,
   "metadata": {},
   "outputs": [],
   "source": [
    "next_x=13\n",
    "next_x=np.array(next_x).reshape(-1,1)\n",
    "pred_x=linreg.predict(next_x)"
   ]
  },
  {
   "cell_type": "code",
   "execution_count": 14,
   "metadata": {},
   "outputs": [
    {
     "name": "stdout",
     "output_type": "stream",
     "text": [
      "\n",
      "Prediksi x \n",
      " 40.72979797979798\n"
     ]
    }
   ],
   "source": [
    "print('\\nPrediksi x \\n', pred_x.item())"
   ]
  },
  {
   "cell_type": "code",
   "execution_count": 15,
   "metadata": {},
   "outputs": [
    {
     "data": {
      "image/png": "[encoded data removed]",
      "text/plain": [
       "<Figure size 432x288 with 1 Axes>"
      ]
     },
     "metadata": {
      "needs_background": "light"
     },
     "output_type": "display_data"
    }
   ],
   "source": [
    "plt.scatter(next_x, pred_x, c='red')\n",
    "pred_y=linreg.predict(x)\n",
    "plt.plot(x, pred_y)\n",
    "plt.plot(x, y)\n",
    "plt.show()"
   ]
  },
  {
   "cell_type": "code",
   "execution_count": null,
   "metadata": {},
   "outputs": [],
   "source": []
  },
  {
   "cell_type": "code",
   "execution_count": null,
   "metadata": {},
   "outputs": [],
   "source": []
  },
  {
   "cell_type": "code",
   "execution_count": null,
   "metadata": {},
   "outputs": [],
   "source": []
  },
  {
   "cell_type": "code",
   "execution_count": null,
   "metadata": {},
   "outputs": [],
   "source": []
  },
  {
   "cell_type": "code",
   "execution_count": null,
   "metadata": {},
   "outputs": [],
   "source": []
  },
  {
   "cell_type": "code",
   "execution_count": null,
   "metadata": {},
   "outputs": [],
   "source": []
  },
  {
   "cell_type": "code",
   "execution_count": null,
   "metadata": {},
   "outputs": [],
   "source": []
  },
  {
   "cell_type": "code",
   "execution_count": null,
   "metadata": {},
   "outputs": [],
   "source": []
  },
  {
   "cell_type": "code",
   "execution_count": null,
   "metadata": {},
   "outputs": [],
   "source": []
  },
  {
   "cell_type": "code",
   "execution_count": null,
   "metadata": {},
   "outputs": [],
   "source": []
  },
  {
   "cell_type": "code",
   "execution_count": null,
   "metadata": {},
   "outputs": [],
   "source": []
  },
  {
   "cell_type": "code",
   "execution_count": null,
   "metadata": {},
   "outputs": [],
   "source": []
  }
 ],
 "metadata": {
  "kernelspec": {
   "display_name": "Python 3",
   "language": "python",
   "name": "python3"
  },
  "language_info": {
   "codemirror_mode": {
    "name": "ipython",
    "version": 3
   },
   "file_extension": ".py",
   "mimetype": "text/x-python",
   "name": "python",
   "nbconvert_exporter": "python",
   "pygments_lexer": "ipython3",
   "version": "3.8.3"
  }
 },
 "nbformat": 4,
 "nbformat_minor": 4
}
